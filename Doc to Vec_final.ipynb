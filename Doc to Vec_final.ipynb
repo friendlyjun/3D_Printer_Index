{
 "cells": [
  {
   "cell_type": "code",
   "execution_count": 83,
   "metadata": {
    "collapsed": false
   },
   "outputs": [],
   "source": [
    "import pandas as pd\n",
    "import logging\n",
    "import gensim\n",
    "logging.basicConfig(format='%(asctime)s : %(levelname)s : %(message)s', level=logging.INFO)\n",
    "from gensim.models.doc2vec import Doc2Vec, TaggedDocument\n",
    "import os as os"
   ]
  },
  {
   "cell_type": "code",
   "execution_count": 84,
   "metadata": {
    "collapsed": false
   },
   "outputs": [
    {
     "data": {
      "text/html": [
       "<div>\n",
       "<style>\n",
       "    .dataframe thead tr:only-child th {\n",
       "        text-align: right;\n",
       "    }\n",
       "\n",
       "    .dataframe thead th {\n",
       "        text-align: left;\n",
       "    }\n",
       "\n",
       "    .dataframe tbody tr th {\n",
       "        vertical-align: top;\n",
       "    }\n",
       "</style>\n",
       "<table border=\"1\" class=\"dataframe\">\n",
       "  <thead>\n",
       "    <tr style=\"text-align: right;\">\n",
       "      <th></th>\n",
       "      <th>content</th>\n",
       "      <th>ticker</th>\n",
       "    </tr>\n",
       "  </thead>\n",
       "  <tbody>\n",
       "    <tr>\n",
       "      <th>0</th>\n",
       "      <td>b'Ticker:AA\\r\\nb\\'Alcoa Corporation390 Park Av...</td>\n",
       "      <td>AA</td>\n",
       "    </tr>\n",
       "    <tr>\n",
       "      <th>1</th>\n",
       "      <td>b\"Ticker:ACEYY\\r\\nb'ACER INC GDRREGS NEWSector...</td>\n",
       "      <td>ACEYY</td>\n",
       "    </tr>\n",
       "    <tr>\n",
       "      <th>2</th>\n",
       "      <td>b'Ticker:ADSK\\r\\nb\\'Autodesk, Inc.111 McInnis ...</td>\n",
       "      <td>ADSK</td>\n",
       "    </tr>\n",
       "    <tr>\n",
       "      <th>3</th>\n",
       "      <td>b'Ticker:ARCW\\r\\nb\\'ARC Group Worldwide, Inc.8...</td>\n",
       "      <td>ARCW</td>\n",
       "    </tr>\n",
       "    <tr>\n",
       "      <th>4</th>\n",
       "      <td>b\"Ticker:ASUUY\\r\\nb'ASUSTeK Computer Inc.Secto...</td>\n",
       "      <td>ASUUY</td>\n",
       "    </tr>\n",
       "    <tr>\n",
       "      <th>5</th>\n",
       "      <td>b'Ticker:BTX\\r\\nb\\'BioTime, Inc.1010 Atlantic ...</td>\n",
       "      <td>BTX</td>\n",
       "    </tr>\n",
       "    <tr>\n",
       "      <th>6</th>\n",
       "      <td>b'Ticker:CAJ\\r\\nb\\'Canon Inc.30-2, Shimomaruko...</td>\n",
       "      <td>CAJ</td>\n",
       "    </tr>\n",
       "    <tr>\n",
       "      <th>7</th>\n",
       "      <td>b'Ticker:CAT\\r\\nb\\'Caterpillar Inc.100 NE Adam...</td>\n",
       "      <td>CAT</td>\n",
       "    </tr>\n",
       "    <tr>\n",
       "      <th>8</th>\n",
       "      <td>b'Ticker:CGIX\\r\\nb\\'Cancer Genetics, Inc.201 R...</td>\n",
       "      <td>CGIX</td>\n",
       "    </tr>\n",
       "    <tr>\n",
       "      <th>9</th>\n",
       "      <td>b'Ticker:CRL\\r\\nb\\'Charles River Laboratories ...</td>\n",
       "      <td>CRL</td>\n",
       "    </tr>\n",
       "    <tr>\n",
       "      <th>10</th>\n",
       "      <td>b'Ticker:CSBR\\r\\nb\\'iShares MSCI Brazil ETF US...</td>\n",
       "      <td>CSBR</td>\n",
       "    </tr>\n",
       "    <tr>\n",
       "      <th>11</th>\n",
       "      <td>b'Ticker:DDD\\r\\nb\\'3D Systems Corporation333 T...</td>\n",
       "      <td>DDD</td>\n",
       "    </tr>\n",
       "    <tr>\n",
       "      <th>12</th>\n",
       "      <td>b'Ticker:DE\\r\\nb\\'Deere &amp; DEOne John Deere Pla...</td>\n",
       "      <td>DE</td>\n",
       "    </tr>\n",
       "    <tr>\n",
       "      <th>13</th>\n",
       "      <td>b'Ticker:DVMT\\r\\nb\\'Dell Technologies Inc.One ...</td>\n",
       "      <td>DVMT</td>\n",
       "    </tr>\n",
       "    <tr>\n",
       "      <th>14</th>\n",
       "      <td>b'Ticker:FUJIY\\r\\nb\\'FUJIFILM Holdings Corpora...</td>\n",
       "      <td>FUJIY</td>\n",
       "    </tr>\n",
       "    <tr>\n",
       "      <th>15</th>\n",
       "      <td>b'Ticker:GE\\r\\nb\\'General Electric GE41 Farnsw...</td>\n",
       "      <td>GE</td>\n",
       "    </tr>\n",
       "    <tr>\n",
       "      <th>16</th>\n",
       "      <td>b'Ticker:HAGE\\r\\nb\\'Heritage Printing Technolo...</td>\n",
       "      <td>HAGE</td>\n",
       "    </tr>\n",
       "    <tr>\n",
       "      <th>17</th>\n",
       "      <td>b'Ticker:HPE\\r\\nb\"Hewlett Packard Enterprise H...</td>\n",
       "      <td>HPE</td>\n",
       "    </tr>\n",
       "    <tr>\n",
       "      <th>18</th>\n",
       "      <td>b'Ticker:HPQ\\r\\nb\\'HP Inc.1501 Page Mill RoadP...</td>\n",
       "      <td>HPQ</td>\n",
       "    </tr>\n",
       "    <tr>\n",
       "      <th>19</th>\n",
       "      <td>b'Ticker:INCR\\r\\nb\\'INC Research Holdings, Inc...</td>\n",
       "      <td>INCR</td>\n",
       "    </tr>\n",
       "    <tr>\n",
       "      <th>20</th>\n",
       "      <td>b'Ticker:JNJ\\r\\nb\\'Johnson &amp; JohnsonOne Johnso...</td>\n",
       "      <td>JNJ</td>\n",
       "    </tr>\n",
       "    <tr>\n",
       "      <th>21</th>\n",
       "      <td>b'Ticker:LJPC\\r\\nb\\'La Jolla Pharmaceutical LJ...</td>\n",
       "      <td>LJPC</td>\n",
       "    </tr>\n",
       "    <tr>\n",
       "      <th>22</th>\n",
       "      <td>b'Ticker:LMT\\r\\nb\\'Lockheed Martin Corporation...</td>\n",
       "      <td>LMT</td>\n",
       "    </tr>\n",
       "    <tr>\n",
       "      <th>23</th>\n",
       "      <td>b'Ticker:LNVGY\\r\\nb\\'Lenovo Group LimitedLinco...</td>\n",
       "      <td>LNVGY</td>\n",
       "    </tr>\n",
       "    <tr>\n",
       "      <th>24</th>\n",
       "      <td>b'Ticker:LOGI\\r\\nb\"Logitech International S.A....</td>\n",
       "      <td>LOGI</td>\n",
       "    </tr>\n",
       "    <tr>\n",
       "      <th>25</th>\n",
       "      <td>b'Ticker:MEDP\\r\\nb\\'Medpace Holdings, Inc.5375...</td>\n",
       "      <td>MEDP</td>\n",
       "    </tr>\n",
       "    <tr>\n",
       "      <th>26</th>\n",
       "      <td>b'Ticker:MMM\\r\\nb\\'3M MMM3M CenterSt. Paul, MN...</td>\n",
       "      <td>MMM</td>\n",
       "    </tr>\n",
       "    <tr>\n",
       "      <th>27</th>\n",
       "      <td>b'Ticker:MSFT\\r\\nb\\'Microsoft CorporationOne M...</td>\n",
       "      <td>MSFT</td>\n",
       "    </tr>\n",
       "    <tr>\n",
       "      <th>28</th>\n",
       "      <td>b'Ticker:MTLS\\r\\nb\\'Materialise NVTechnologiel...</td>\n",
       "      <td>MTLS</td>\n",
       "    </tr>\n",
       "    <tr>\n",
       "      <th>29</th>\n",
       "      <td>b'Ticker:ONVO\\r\\nb\\'\\'b\"b\\'Motley Fool\\\\\\\\xe2\\...</td>\n",
       "      <td>ONVO</td>\n",
       "    </tr>\n",
       "    <tr>\n",
       "      <th>30</th>\n",
       "      <td>b'Ticker:PRAH\\r\\nb\\'PRA Health Sciences, Inc.4...</td>\n",
       "      <td>PRAH</td>\n",
       "    </tr>\n",
       "    <tr>\n",
       "      <th>31</th>\n",
       "      <td>b'Ticker:PRLB\\r\\nb\\'Proto Labs, Inc.5540 Pione...</td>\n",
       "      <td>PRLB</td>\n",
       "    </tr>\n",
       "    <tr>\n",
       "      <th>32</th>\n",
       "      <td>b'Ticker:PRXL\\r\\nb\\'PAREXEL International Corp...</td>\n",
       "      <td>PRXL</td>\n",
       "    </tr>\n",
       "    <tr>\n",
       "      <th>33</th>\n",
       "      <td>b'Ticker:Q\\r\\nb\\'Quintiles IMS Holdings, Inc.4...</td>\n",
       "      <td>Q</td>\n",
       "    </tr>\n",
       "    <tr>\n",
       "      <th>34</th>\n",
       "      <td>b\"Ticker:QUCPF\\r\\nb'QUANTA COMPUTER TWD10Secto...</td>\n",
       "      <td>QUCPF</td>\n",
       "    </tr>\n",
       "    <tr>\n",
       "      <th>35</th>\n",
       "      <td>b'Ticker:RNSHF\\r\\nb\\'Renishaw plcNew MillsWott...</td>\n",
       "      <td>RNSHF</td>\n",
       "    </tr>\n",
       "    <tr>\n",
       "      <th>36</th>\n",
       "      <td>b'Ticker:SGLB\\r\\nb\\'Sigma Labs, Inc.3900 Paseo...</td>\n",
       "      <td>SGLB</td>\n",
       "    </tr>\n",
       "    <tr>\n",
       "      <th>37</th>\n",
       "      <td>b'Ticker:SIEGY\\r\\nb\\'Siemens Aktiengesellschaf...</td>\n",
       "      <td>SIEGY</td>\n",
       "    </tr>\n",
       "    <tr>\n",
       "      <th>38</th>\n",
       "      <td>b'Ticker:SSNNF\\r\\nb\\'SAMSUNG ELEC CO PFDSector...</td>\n",
       "      <td>SSNNF</td>\n",
       "    </tr>\n",
       "    <tr>\n",
       "      <th>39</th>\n",
       "      <td>b'Ticker:TKSTF\\r\\nb\\'Tinkerine Studios Ltd.341...</td>\n",
       "      <td>TKSTF</td>\n",
       "    </tr>\n",
       "    <tr>\n",
       "      <th>40</th>\n",
       "      <td>b'Ticker:TOSYY\\r\\nb\\'Toshiba Corporation1-1, S...</td>\n",
       "      <td>TOSYY</td>\n",
       "    </tr>\n",
       "    <tr>\n",
       "      <th>41</th>\n",
       "      <td>b'Ticker:TRMB\\r\\nb\\'Trimble Inc.935 Stewart Dr...</td>\n",
       "      <td>TRMB</td>\n",
       "    </tr>\n",
       "    <tr>\n",
       "      <th>42</th>\n",
       "      <td>b'Ticker:VJET\\r\\nb\\'Voxeljet AGPaul-Lenz Stras...</td>\n",
       "      <td>VJET</td>\n",
       "    </tr>\n",
       "    <tr>\n",
       "      <th>43</th>\n",
       "      <td>b'Ticker:XONE\\r\\nb\\'The ExOne XONE127 Industry...</td>\n",
       "      <td>XONE</td>\n",
       "    </tr>\n",
       "    <tr>\n",
       "      <th>44</th>\n",
       "      <td>b'Ticker:ZBH\\r\\nb\\'Zimmer Biomet Holdings, Inc...</td>\n",
       "      <td>ZBH</td>\n",
       "    </tr>\n",
       "  </tbody>\n",
       "</table>\n",
       "</div>"
      ],
      "text/plain": [
       "                                              content ticker\n",
       "0   b'Ticker:AA\\r\\nb\\'Alcoa Corporation390 Park Av...     AA\n",
       "1   b\"Ticker:ACEYY\\r\\nb'ACER INC GDRREGS NEWSector...  ACEYY\n",
       "2   b'Ticker:ADSK\\r\\nb\\'Autodesk, Inc.111 McInnis ...   ADSK\n",
       "3   b'Ticker:ARCW\\r\\nb\\'ARC Group Worldwide, Inc.8...   ARCW\n",
       "4   b\"Ticker:ASUUY\\r\\nb'ASUSTeK Computer Inc.Secto...  ASUUY\n",
       "5   b'Ticker:BTX\\r\\nb\\'BioTime, Inc.1010 Atlantic ...    BTX\n",
       "6   b'Ticker:CAJ\\r\\nb\\'Canon Inc.30-2, Shimomaruko...    CAJ\n",
       "7   b'Ticker:CAT\\r\\nb\\'Caterpillar Inc.100 NE Adam...    CAT\n",
       "8   b'Ticker:CGIX\\r\\nb\\'Cancer Genetics, Inc.201 R...   CGIX\n",
       "9   b'Ticker:CRL\\r\\nb\\'Charles River Laboratories ...    CRL\n",
       "10  b'Ticker:CSBR\\r\\nb\\'iShares MSCI Brazil ETF US...   CSBR\n",
       "11  b'Ticker:DDD\\r\\nb\\'3D Systems Corporation333 T...    DDD\n",
       "12  b'Ticker:DE\\r\\nb\\'Deere & DEOne John Deere Pla...     DE\n",
       "13  b'Ticker:DVMT\\r\\nb\\'Dell Technologies Inc.One ...   DVMT\n",
       "14  b'Ticker:FUJIY\\r\\nb\\'FUJIFILM Holdings Corpora...  FUJIY\n",
       "15  b'Ticker:GE\\r\\nb\\'General Electric GE41 Farnsw...     GE\n",
       "16  b'Ticker:HAGE\\r\\nb\\'Heritage Printing Technolo...   HAGE\n",
       "17  b'Ticker:HPE\\r\\nb\"Hewlett Packard Enterprise H...    HPE\n",
       "18  b'Ticker:HPQ\\r\\nb\\'HP Inc.1501 Page Mill RoadP...    HPQ\n",
       "19  b'Ticker:INCR\\r\\nb\\'INC Research Holdings, Inc...   INCR\n",
       "20  b'Ticker:JNJ\\r\\nb\\'Johnson & JohnsonOne Johnso...    JNJ\n",
       "21  b'Ticker:LJPC\\r\\nb\\'La Jolla Pharmaceutical LJ...   LJPC\n",
       "22  b'Ticker:LMT\\r\\nb\\'Lockheed Martin Corporation...    LMT\n",
       "23  b'Ticker:LNVGY\\r\\nb\\'Lenovo Group LimitedLinco...  LNVGY\n",
       "24  b'Ticker:LOGI\\r\\nb\"Logitech International S.A....   LOGI\n",
       "25  b'Ticker:MEDP\\r\\nb\\'Medpace Holdings, Inc.5375...   MEDP\n",
       "26  b'Ticker:MMM\\r\\nb\\'3M MMM3M CenterSt. Paul, MN...    MMM\n",
       "27  b'Ticker:MSFT\\r\\nb\\'Microsoft CorporationOne M...   MSFT\n",
       "28  b'Ticker:MTLS\\r\\nb\\'Materialise NVTechnologiel...   MTLS\n",
       "29  b'Ticker:ONVO\\r\\nb\\'\\'b\"b\\'Motley Fool\\\\\\\\xe2\\...   ONVO\n",
       "30  b'Ticker:PRAH\\r\\nb\\'PRA Health Sciences, Inc.4...   PRAH\n",
       "31  b'Ticker:PRLB\\r\\nb\\'Proto Labs, Inc.5540 Pione...   PRLB\n",
       "32  b'Ticker:PRXL\\r\\nb\\'PAREXEL International Corp...   PRXL\n",
       "33  b'Ticker:Q\\r\\nb\\'Quintiles IMS Holdings, Inc.4...      Q\n",
       "34  b\"Ticker:QUCPF\\r\\nb'QUANTA COMPUTER TWD10Secto...  QUCPF\n",
       "35  b'Ticker:RNSHF\\r\\nb\\'Renishaw plcNew MillsWott...  RNSHF\n",
       "36  b'Ticker:SGLB\\r\\nb\\'Sigma Labs, Inc.3900 Paseo...   SGLB\n",
       "37  b'Ticker:SIEGY\\r\\nb\\'Siemens Aktiengesellschaf...  SIEGY\n",
       "38  b'Ticker:SSNNF\\r\\nb\\'SAMSUNG ELEC CO PFDSector...  SSNNF\n",
       "39  b'Ticker:TKSTF\\r\\nb\\'Tinkerine Studios Ltd.341...  TKSTF\n",
       "40  b'Ticker:TOSYY\\r\\nb\\'Toshiba Corporation1-1, S...  TOSYY\n",
       "41  b'Ticker:TRMB\\r\\nb\\'Trimble Inc.935 Stewart Dr...   TRMB\n",
       "42  b'Ticker:VJET\\r\\nb\\'Voxeljet AGPaul-Lenz Stras...   VJET\n",
       "43  b'Ticker:XONE\\r\\nb\\'The ExOne XONE127 Industry...   XONE\n",
       "44  b'Ticker:ZBH\\r\\nb\\'Zimmer Biomet Holdings, Inc...    ZBH"
      ]
     },
     "execution_count": 84,
     "metadata": {},
     "output_type": "execute_result"
    }
   ],
   "source": [
    "content_list=[]\n",
    "ticker_index = []\n",
    "ticker_list = ['AA','ACEYY','ADSK','ARCW','ASUUY','BTX','CAJ','CAT','CGIX','CRL','CSBR','DDD','DE','DVMT','FUJIY','GE',\n",
    "'HAGE','HPE','HPQ','INCR','JNJ','LJPC','LMT','LNVGY','LOGI','MEDP','MMM','MSFT','MTLS','ONVO','PRAH','PRLB','PRXL','Q',\n",
    "'QUCPF','RNSHF','SGLB','SIEGY','SSNNF','TKSTF','TOSYY','TRMB','VJET','XONE','ZBH']\n",
    "\n",
    "for ticker in ticker_list:\n",
    "    try:\n",
    "        fh = open('C:/Users/Daniel/Documents/Yewno/company_'+ticker,'rb')\n",
    "        content = fh.read()\n",
    "        content_list.append(content)\n",
    "        content_list\n",
    "        ticker_index.append(ticker)\n",
    "        fh.close()\n",
    "    except:\n",
    "        continue\n",
    "        \n",
    "columns = {'content':content_list,'ticker':ticker_index}\n",
    "df_writings = pd.DataFrame(columns)\n",
    "\n",
    "df_writings"
   ]
  },
  {
   "cell_type": "code",
   "execution_count": 85,
   "metadata": {
    "collapsed": true
   },
   "outputs": [],
   "source": [
    "winner = df_writings"
   ]
  },
  {
   "cell_type": "code",
   "execution_count": 86,
   "metadata": {
    "collapsed": false
   },
   "outputs": [
    {
     "data": {
      "text/plain": [
       "(45, 2)"
      ]
     },
     "execution_count": 86,
     "metadata": {},
     "output_type": "execute_result"
    }
   ],
   "source": [
    "winner.shape"
   ]
  },
  {
   "cell_type": "code",
   "execution_count": 87,
   "metadata": {
    "collapsed": false
   },
   "outputs": [
    {
     "data": {
      "text/plain": [
       "TaggedDocument(words=b'Ticker:CSBR\\r\\nb\\'iShares MSCI Brazil ETF USD AccOne University PlazaSuite 307Hackensack, NJ 07601United States201-808-8400http://www.championsoncology.comSector:\\\\xc2\\\\xa0HealthcareIndustry:\\\\xc2\\\\xa0BiotechnologyFull Time Employees:\\\\xc2\\\\xa079Key ExecutivesNameTitlePayExercisedAgeDr. Ronnie  Morris M.D.Chief Exec. Officer and Director15.06kN/A51Dr. David  Sidransky M.D., Ph.D.Founder, Lead Director and Scientific AdvisorN/AN/A57Mr. David Barry MillerVP of Fin.221.88kN/A48Dr. Philip P. Breitfeld M.D.Chief Scientific & Innovation Officer and DirectorN/AN/A64Mr. Mark  WeinsteinChief Information OfficerN/AN/AN/AAmounts are as of December 31, 2016 and compensation values are for the last fiscal year ending on that date. Pay is salary, bonuses, etc. Exercised is the value of options exercised during the fiscal year. Currency in USD.DescriptionChampions Oncology, Inc. develops and sells technology solutions and products to personalize the development and use of oncology drugs in the United States. Its Tumorgraft Technology Platform is an approach to personalizing cancer care based upon the implantation of human tumors in immune-deficient mice. The CSBR, through its Tumorgraft Technology Platform, provides Personalized Oncology Solutions (POS) that assist physicians in developing personalized treatment options for cancer patients through tumor specific data obtained from drug panels and related personalized oncology services. The CSBR also offers POS products, including personalized tumor boards that are designed to provide access to oncologists with expertise in particular tumor types; and provides access to gene sequencing that analyzes the genetic makeup of patient\\\\xc2\\\\x92s tumor for the purpose of identifying potentially useful drugs. In addition, it offers Translational Oncology Solutions (TOS), including a preclinical Tumorgraft platform to pharmaceutical and biotechnology companies that use vivo studies, which rely on implanting multiple tumors from TumorBank in mice and testing the therapy of interest on tumors. The CSBR markets its products through Internet, word of mouth, and a network of sales force to patients and physicians. Champions Oncology, Inc. has collaboration agreements with The Addario Lung Cancer Medical Institute and AstraZeneca to develop cohorts of PDX models. The CSBR was formerly known as Champions Biotechnology, Inc. and changed its name to Champions Oncology, Inc. in April 2011 to reflect its new focus on developing technologies to personalize the development and use of oncology drugs. Champions Oncology, Inc. is headquartered in Hackensack, New Jersey.Corporate GovernanceiShares MSCI Brazil ETF USD Acc\\\\xe2\\\\x80\\\\x99s ISS Governance QualityScore as of N/A is N/A. The pillar scores are Audit: N/A; Board: N/A; Shareholder Rights: N/A; Compensation: N/A.Corporate governance scores courtesy of Institutional Shareholder Services (ISS).  Scores indicate decile rank relative to index or region. A decile score of 1 indicates lower governance risk, while a 10 indicates higher governance risk.\\'b\\'b\\\\\\'PR Newswire\\\\\\\\xe2\\\\\\\\x80\\\\\\\\xa216 days agoChampions Oncology Announces Strategic Collaboration with AstraZeneca to Develop Unique Cohorts of Patient-Derived Xenograft (PDX) ModelsHACKENSACK, N.J., Aug. 21, 2017 /PRNewswire/ --\\\\\\\\xc2\\\\\\\\xa0Champions Oncology, Inc. (CSBR), a company engaged in the development and sale of advanced technology solutions and products to personalize the development and use of oncology drugs, today announced a strategic collaboration with AstraZeneca to develop novel cohorts of PDX models.\\\\\\'b\\\\\\'PR Newswire\\\\\\\\xe2\\\\\\\\x80\\\\\\\\xa219 days agoChampions Oncology Announces Research Collaboration with The Addario Lung Cancer Medical Institute to Develop Unique Cohort of Patient-Derived Xenograft (PDX) ModelsHACKENSACK, N.J., Aug. 18, 2017 /PRNewswire/ --\\\\\\\\xc2\\\\\\\\xa0Champions Oncology, Inc. (CSBR), a company engaged in the development and sale of advanced technology solutions and products to personalize the development and use of oncology drugs, today announced a collaboration with The Addario Lung Cancer Medical Institute \"ALCMI\" to develop a novel cohort of PDX models in patients with ROS1 gene rearrangement.\\\\\\\\xc2\\\\\\\\xa0 These models will further expand Champions\\\\\\\\\\\\\\' TumorGraft bank offerings in non-small cell lung cancer for translational oncology research for academic and industry customers.\\\\\\\\xc2\\\\\\\\xa0 Champions\\\\\\\\\\\\\\' global infrastructure will be leveraged to support this multi-year program.  As a patient-driven initiative, ALCMI is leading an international study, with Champions Oncology contributing its extensive experience and global infrastructure, to support the establishment of patient derived xenograft models from patients with a ROS1 fusion.\\\\\\'b\\\\\\'PR Newswire\\\\\\\\xe2\\\\\\\\x80\\\\\\\\xa222 days agoThe Addario Lung Cancer Medical Institute, Champions Oncology and Motivated Patients Announce a Research Collaboration and Launch of a Patient Driven Clinical Study in ROS1 Positive CancerSAN CARLOS, Calif. and HACKENSACK, N.J., Aug. 15, 2017 /PRNewswire/ --\\\\\\\\xc2\\\\\\\\xa0The Addario Lung Cancer Medical Institute (ALCMI), Champions Oncology (CSBR), and the ROS1ders (voiced as \"ross wonders\") announce a preclinical study that will develop new models of cancers expressing a ROS1 gene rearrangement.  This study is part of The Global ROS1 Research Initiative, which focuses on improving outcomes for this uncommon yet clinically important oncogene-driven cancer.  The ROS1ders are a group of patients and caregivers dealing with ROS1 positive cancers, regardless of where the cancer originated.\\\\\\'\\'\\r\\n******************************', tags=['CSBR'])"
      ]
     },
     "execution_count": 87,
     "metadata": {},
     "output_type": "execute_result"
    }
   ],
   "source": [
    "TaggedDocument(winner.iloc[10,0],tags=['%s' % winner.iloc[10,1]])"
   ]
  },
  {
   "cell_type": "code",
   "execution_count": 88,
   "metadata": {
    "collapsed": false
   },
   "outputs": [
    {
     "data": {
      "text/plain": [
       "45"
      ]
     },
     "execution_count": 88,
     "metadata": {},
     "output_type": "execute_result"
    }
   ],
   "source": [
    "winner.shape[0]"
   ]
  },
  {
   "cell_type": "code",
   "execution_count": 89,
   "metadata": {
    "collapsed": true
   },
   "outputs": [],
   "source": [
    "from gensim.utils import simple_preprocess\n",
    "\n",
    "# MyDocs reading from a data frame\n",
    "class MyDocs(object):\n",
    "    def __iter__(self):\n",
    "        for i in range(winner.shape[0]):\n",
    "            yield TaggedDocument(words=simple_preprocess(winner.iloc[i,0]), tags=['%s' % winner.iloc[i,1]])"
   ]
  },
  {
   "cell_type": "code",
   "execution_count": 90,
   "metadata": {
    "collapsed": true
   },
   "outputs": [],
   "source": [
    "assert gensim.models.doc2vec.FAST_VERSION > -1, \"this will be painfully slow otherwise\""
   ]
  },
  {
   "cell_type": "code",
   "execution_count": 91,
   "metadata": {
    "collapsed": false,
    "scrolled": false
   },
   "outputs": [
    {
     "name": "stderr",
     "output_type": "stream",
     "text": [
      "2017-09-06 12:42:02,950 : INFO : collecting all words and their counts\n",
      "2017-09-06 12:42:03,114 : INFO : PROGRESS: at example #0, processed 0 words (0/s), 0 word types, 0 tags\n",
      "2017-09-06 12:42:03,162 : INFO : collected 3660 word types and 45 unique tags from a corpus of 45 examples and 20419 words\n",
      "2017-09-06 12:42:03,163 : INFO : Loading a fresh vocabulary\n",
      "2017-09-06 12:42:03,170 : INFO : min_count=20 retains 163 unique words (4% of original 3660, drops 3497)\n",
      "2017-09-06 12:42:03,172 : INFO : min_count=20 leaves 11620 word corpus (56% of original 20419, drops 8799)\n",
      "2017-09-06 12:42:03,188 : INFO : deleting the raw counts dictionary of 3660 items\n",
      "2017-09-06 12:42:03,190 : INFO : sample=0.001 downsamples 125 most-common words\n",
      "2017-09-06 12:42:03,192 : INFO : downsampling leaves estimated 5933 word corpus (51.1% of prior 11620)\n",
      "2017-09-06 12:42:03,195 : INFO : estimated required memory for 163 words and 4 dimensions: 96436 bytes\n",
      "2017-09-06 12:42:03,198 : INFO : resetting layer weights\n",
      "2017-09-06 12:42:03,206 : INFO : training model with 1 workers on 163 vocabulary and 4 features, using sg=0 hs=0 sample=0.001 negative=5 window=8\n",
      "2017-09-06 12:42:03,503 : INFO : worker thread finished; awaiting finish of 0 more threads\n",
      "2017-09-06 12:42:03,505 : INFO : training on 102095 raw words (29814 effective words) took 0.3s, 111792 effective words/s\n"
     ]
    },
    {
     "data": {
      "text/plain": [
       "29814"
      ]
     },
     "execution_count": 91,
     "metadata": {},
     "output_type": "execute_result"
    }
   ],
   "source": [
    "documents = MyDocs()\n",
    "doc2vec_model = Doc2Vec(dm=1, dbow_words=1, size=4, window=8, min_count=20, workers=1)\n",
    "doc2vec_model.build_vocab(documents)\n",
    "doc2vec_model.train(documents, total_examples=doc2vec_model.corpus_count,epochs=doc2vec_model.iter)"
   ]
  },
  {
   "cell_type": "code",
   "execution_count": 92,
   "metadata": {
    "collapsed": false
   },
   "outputs": [
    {
     "name": "stderr",
     "output_type": "stream",
     "text": [
      "2017-09-06 12:42:07,107 : INFO : collecting all words and their counts\n",
      "2017-09-06 12:42:07,111 : INFO : PROGRESS: at example #0, processed 0 words (0/s), 0 word types, 0 tags\n",
      "2017-09-06 12:42:07,166 : INFO : collected 3660 word types and 45 unique tags from a corpus of 45 examples and 20419 words\n",
      "2017-09-06 12:42:07,167 : INFO : Loading a fresh vocabulary\n",
      "2017-09-06 12:42:07,173 : INFO : min_count=20 retains 163 unique words (4% of original 3660, drops 3497)\n",
      "2017-09-06 12:42:07,175 : INFO : min_count=20 leaves 11620 word corpus (56% of original 20419, drops 8799)\n",
      "2017-09-06 12:42:07,178 : INFO : deleting the raw counts dictionary of 3660 items\n",
      "2017-09-06 12:42:07,180 : INFO : sample=0.001 downsamples 125 most-common words\n",
      "2017-09-06 12:42:07,182 : INFO : downsampling leaves estimated 5933 word corpus (51.1% of prior 11620)\n",
      "2017-09-06 12:42:07,184 : INFO : estimated required memory for 163 words and 4 dimensions: 96436 bytes\n",
      "2017-09-06 12:42:07,186 : INFO : resetting layer weights\n",
      "2017-09-06 12:42:07,193 : INFO : training model with 1 workers on 163 vocabulary and 4 features, using sg=0 hs=0 sample=0.001 negative=5 window=8\n",
      "2017-09-06 12:42:07,517 : INFO : worker thread finished; awaiting finish of 0 more threads\n",
      "2017-09-06 12:42:07,518 : INFO : training on 102095 raw words (29814 effective words) took 0.2s, 138454 effective words/s\n"
     ]
    },
    {
     "name": "stdout",
     "output_type": "stream",
     "text": [
      "Wall time: 413 ms\n"
     ]
    }
   ],
   "source": [
    "%%time\n",
    "import multiprocessing\n",
    "\n",
    "documents = MyDocs()\n",
    "doc2vec_model = Doc2Vec(dm=1, dbow_words=1, size=4, window=8, min_count=20, workers=1)\n",
    "doc2vec_model.build_vocab(documents)\n",
    "doc2vec_model.train(documents, total_examples=doc2vec_model.corpus_count,epochs=doc2vec_model.iter)\n"
   ]
  },
  {
   "cell_type": "code",
   "execution_count": 115,
   "metadata": {
    "collapsed": false,
    "scrolled": false
   },
   "outputs": [
    {
     "name": "stderr",
     "output_type": "stream",
     "text": [
      "2017-09-06 13:09:15,500 : INFO : loading Doc2Vec object from models/doc2vec.model\n",
      "2017-09-06 13:09:15,504 : INFO : loading wv recursively from models/doc2vec.model.wv.* with mmap=None\n",
      "2017-09-06 13:09:15,506 : INFO : setting ignored attribute syn0norm to None\n",
      "2017-09-06 13:09:15,507 : INFO : loading docvecs recursively from models/doc2vec.model.docvecs.* with mmap=None\n",
      "2017-09-06 13:09:15,509 : INFO : setting ignored attribute cum_table to None\n",
      "2017-09-06 13:09:15,510 : INFO : loaded models/doc2vec.model\n"
     ]
    },
    {
     "name": "stdout",
     "output_type": "stream",
     "text": [
      "Wall time: 13 ms\n"
     ]
    }
   ],
   "source": [
    "%%time\n",
    "import multiprocessing\n",
    "\n",
    "\n",
    "if not os.path.exists('models/doc2vec.model'):\n",
    "    print(\"start traing doc2vec model...\")\n",
    "    documents = MyDocs()\n",
    "    doc2vec_model = Doc2Vec(dm=1, dbow_words=1, size=4, window=8, min_count=3, workers=1)\n",
    "    doc2vec_model.build_vocab(documents)\n",
    "    doc2vec_model.train(documents, total_examples=doc2vec_model.corpus_count,epochs=doc2vec_model.iter)\n",
    "    if not os.path.exists('models'):\n",
    "        os.makedirs('models')\n",
    "        doc2vec_model.save('models/doc2vec.model')\n",
    "    else:\n",
    "        doc2vec_model.save('models/doc2vec.model')\n",
    "else:\n",
    "    doc2vec_model = Doc2Vec.load('models/doc2vec.model')"
   ]
  },
  {
   "cell_type": "code",
   "execution_count": 116,
   "metadata": {
    "collapsed": false,
    "scrolled": true
   },
   "outputs": [
    {
     "name": "stderr",
     "output_type": "stream",
     "text": [
      "2017-09-06 13:09:17,894 : INFO : precomputing L2-norms of doc weight vectors\n"
     ]
    },
    {
     "data": {
      "text/plain": [
       "[('CAJ', 0.9983081817626953),\n",
       " ('TRMB', 0.9969295859336853),\n",
       " ('GE', 0.9969007968902588),\n",
       " ('PRXL', 0.9953791499137878),\n",
       " ('AA', 0.9947645664215088),\n",
       " ('TKSTF', 0.9947382807731628),\n",
       " ('RNSHF', 0.9946765899658203),\n",
       " ('HPE', 0.9941799640655518),\n",
       " ('VJET', 0.9940499067306519),\n",
       " ('MTLS', 0.9932960867881775),\n",
       " ('CGIX', 0.9918451905250549),\n",
       " ('DDD', 0.9916961789131165),\n",
       " ('ADSK', 0.990938127040863),\n",
       " ('INCR', 0.9903320074081421),\n",
       " ('MMM', 0.9900952577590942),\n",
       " ('MSFT', 0.9900063872337341),\n",
       " ('PRAH', 0.9895561933517456),\n",
       " ('SIEGY', 0.9894074201583862),\n",
       " ('XONE', 0.9886802434921265),\n",
       " ('QUCPF', 0.9877631664276123),\n",
       " ('Q', 0.9872018694877625),\n",
       " ('PRLB', 0.9868906140327454),\n",
       " ('TOSYY', 0.9857146739959717),\n",
       " ('FUJIY', 0.9856294393539429),\n",
       " ('ZBH', 0.9848397374153137),\n",
       " ('ARCW', 0.9825224876403809),\n",
       " ('HAGE', 0.9788421392440796),\n",
       " ('SGLB', 0.977979302406311),\n",
       " ('HPQ', 0.9779437184333801),\n",
       " ('CRL', 0.9735470414161682),\n",
       " ('DE', 0.9734029769897461),\n",
       " ('LOGI', 0.9715994596481323),\n",
       " ('DVMT', 0.9699603915214539),\n",
       " ('LMT', 0.9670136570930481),\n",
       " ('LNVGY', 0.9635233283042908),\n",
       " ('MEDP', 0.9629299640655518),\n",
       " ('CSBR', 0.9617248177528381),\n",
       " ('LJPC', 0.9505875110626221),\n",
       " ('BTX', 0.9500364661216736),\n",
       " ('JNJ', 0.9364123344421387),\n",
       " ('ASUUY', 0.8213094472885132),\n",
       " ('ACEYY', 0.727200448513031),\n",
       " ('ONVO', 0.04685346782207489)]"
      ]
     },
     "execution_count": 116,
     "metadata": {},
     "output_type": "execute_result"
    }
   ],
   "source": [
    "doc2vec_model.docvecs.most_similar(7, topn=44)"
   ]
  },
  {
   "cell_type": "code",
   "execution_count": 30,
   "metadata": {
    "collapsed": false
   },
   "outputs": [
    {
     "data": {
      "text/html": [
       "<div>\n",
       "<style>\n",
       "    .dataframe thead tr:only-child th {\n",
       "        text-align: right;\n",
       "    }\n",
       "\n",
       "    .dataframe thead th {\n",
       "        text-align: left;\n",
       "    }\n",
       "\n",
       "    .dataframe tbody tr th {\n",
       "        vertical-align: top;\n",
       "    }\n",
       "</style>\n",
       "<table border=\"1\" class=\"dataframe\">\n",
       "  <thead>\n",
       "    <tr style=\"text-align: right;\">\n",
       "      <th></th>\n",
       "      <th>content</th>\n",
       "      <th>ticker</th>\n",
       "    </tr>\n",
       "  </thead>\n",
       "  <tbody>\n",
       "    <tr>\n",
       "      <th>0</th>\n",
       "      <td>b\"Ticker:AA\\r\\nb'Alcoa Corporation390 Park Ave...</td>\n",
       "      <td>AA</td>\n",
       "    </tr>\n",
       "    <tr>\n",
       "      <th>1</th>\n",
       "      <td>b\"Ticker:ACEYY\\r\\nb'ACER INC GDRREGS NEWSector...</td>\n",
       "      <td>ACEYY</td>\n",
       "    </tr>\n",
       "    <tr>\n",
       "      <th>2</th>\n",
       "      <td>b\"Ticker:ADSK\\r\\nb'Autodesk, Inc.111 McInnis P...</td>\n",
       "      <td>ADSK</td>\n",
       "    </tr>\n",
       "    <tr>\n",
       "      <th>3</th>\n",
       "      <td>b\"Ticker:ARCW\\r\\nb'ARC Group Worldwide, Inc.81...</td>\n",
       "      <td>ARCW</td>\n",
       "    </tr>\n",
       "    <tr>\n",
       "      <th>4</th>\n",
       "      <td>b\"Ticker:ASUUY\\r\\nb'ASUSTeK Computer Inc.Secto...</td>\n",
       "      <td>ASUUY</td>\n",
       "    </tr>\n",
       "    <tr>\n",
       "      <th>5</th>\n",
       "      <td>b\"Ticker:BTX\\r\\nb'BioTime, Inc.1010 Atlantic A...</td>\n",
       "      <td>BTX</td>\n",
       "    </tr>\n",
       "    <tr>\n",
       "      <th>6</th>\n",
       "      <td>b\"Ticker:CAJ\\r\\nb'Canon Inc.30-2, Shimomaruko ...</td>\n",
       "      <td>CAJ</td>\n",
       "    </tr>\n",
       "    <tr>\n",
       "      <th>7</th>\n",
       "      <td>b\"Ticker:CAT\\r\\nb'Caterpillar Inc.100 NE Adams...</td>\n",
       "      <td>CAT</td>\n",
       "    </tr>\n",
       "    <tr>\n",
       "      <th>8</th>\n",
       "      <td>b\"Ticker:CGIX\\r\\nb'Cancer Genetics, Inc.201 Ro...</td>\n",
       "      <td>CGIX</td>\n",
       "    </tr>\n",
       "    <tr>\n",
       "      <th>9</th>\n",
       "      <td>b\"Ticker:CRL\\r\\nb'Charles River Laboratories I...</td>\n",
       "      <td>CRL</td>\n",
       "    </tr>\n",
       "    <tr>\n",
       "      <th>10</th>\n",
       "      <td>b\"Ticker:CSBR\\r\\nb'iShares MSCI Brazil ETF USD...</td>\n",
       "      <td>CSBR</td>\n",
       "    </tr>\n",
       "    <tr>\n",
       "      <th>11</th>\n",
       "      <td>b\"Ticker:DDD\\r\\nb'3D Systems Corporation333 Th...</td>\n",
       "      <td>DDD</td>\n",
       "    </tr>\n",
       "    <tr>\n",
       "      <th>12</th>\n",
       "      <td>b\"Ticker:DE\\r\\nb'Deere &amp; DEOne John Deere Plac...</td>\n",
       "      <td>DE</td>\n",
       "    </tr>\n",
       "    <tr>\n",
       "      <th>13</th>\n",
       "      <td>b\"Ticker:DVMT\\r\\nb'Dell Technologies Inc.One D...</td>\n",
       "      <td>DVMT</td>\n",
       "    </tr>\n",
       "    <tr>\n",
       "      <th>14</th>\n",
       "      <td>b\"Ticker:FUJIY\\r\\nb'FUJIFILM Holdings Corporat...</td>\n",
       "      <td>FUJIY</td>\n",
       "    </tr>\n",
       "    <tr>\n",
       "      <th>15</th>\n",
       "      <td>b\"Ticker:GE\\r\\nb'General Electric GE41 Farnswo...</td>\n",
       "      <td>GE</td>\n",
       "    </tr>\n",
       "    <tr>\n",
       "      <th>16</th>\n",
       "      <td>b\"Ticker:HAGE\\r\\nb'Heritage Printing Technolog...</td>\n",
       "      <td>HAGE</td>\n",
       "    </tr>\n",
       "    <tr>\n",
       "      <th>17</th>\n",
       "      <td>b'Ticker:HPE\\r\\nb\"Hewlett Packard Enterprise H...</td>\n",
       "      <td>HPE</td>\n",
       "    </tr>\n",
       "    <tr>\n",
       "      <th>18</th>\n",
       "      <td>b\"Ticker:HPQ\\r\\nb'HP Inc.1501 Page Mill RoadPa...</td>\n",
       "      <td>HPQ</td>\n",
       "    </tr>\n",
       "    <tr>\n",
       "      <th>19</th>\n",
       "      <td>b\"Ticker:INCR\\r\\nb'INC Research Holdings, Inc....</td>\n",
       "      <td>INCR</td>\n",
       "    </tr>\n",
       "    <tr>\n",
       "      <th>20</th>\n",
       "      <td>b\"Ticker:JNJ\\r\\nb'Johnson &amp; JohnsonOne Johnson...</td>\n",
       "      <td>JNJ</td>\n",
       "    </tr>\n",
       "    <tr>\n",
       "      <th>21</th>\n",
       "      <td>b\"Ticker:LJPC\\r\\nb'La Jolla Pharmaceutical LJP...</td>\n",
       "      <td>LJPC</td>\n",
       "    </tr>\n",
       "    <tr>\n",
       "      <th>22</th>\n",
       "      <td>b\"Ticker:LMT\\r\\nb'Lockheed Martin Corporation6...</td>\n",
       "      <td>LMT</td>\n",
       "    </tr>\n",
       "    <tr>\n",
       "      <th>23</th>\n",
       "      <td>b\"Ticker:LNVGY\\r\\nb'Lenovo Group LimitedLincol...</td>\n",
       "      <td>LNVGY</td>\n",
       "    </tr>\n",
       "    <tr>\n",
       "      <th>24</th>\n",
       "      <td>b'Ticker:LOGI\\r\\nb\"Logitech International S.A....</td>\n",
       "      <td>LOGI</td>\n",
       "    </tr>\n",
       "    <tr>\n",
       "      <th>25</th>\n",
       "      <td>b\"Ticker:MEDP\\r\\nb'Medpace Holdings, Inc.5375 ...</td>\n",
       "      <td>MEDP</td>\n",
       "    </tr>\n",
       "    <tr>\n",
       "      <th>26</th>\n",
       "      <td>b\"Ticker:MMM\\r\\nb'3M MMM3M CenterSt. Paul, MN ...</td>\n",
       "      <td>MMM</td>\n",
       "    </tr>\n",
       "    <tr>\n",
       "      <th>27</th>\n",
       "      <td>b\"Ticker:MSFT\\r\\nb'Microsoft CorporationOne Mi...</td>\n",
       "      <td>MSFT</td>\n",
       "    </tr>\n",
       "    <tr>\n",
       "      <th>28</th>\n",
       "      <td>b\"Ticker:MTLS\\r\\nb'Materialise NVTechnologiela...</td>\n",
       "      <td>MTLS</td>\n",
       "    </tr>\n",
       "    <tr>\n",
       "      <th>29</th>\n",
       "      <td>b\"Ticker:ONVO\\r\\nb''\\r\\n**********************...</td>\n",
       "      <td>ONVO</td>\n",
       "    </tr>\n",
       "    <tr>\n",
       "      <th>30</th>\n",
       "      <td>b\"Ticker:PRAH\\r\\nb'PRA Health Sciences, Inc.41...</td>\n",
       "      <td>PRAH</td>\n",
       "    </tr>\n",
       "    <tr>\n",
       "      <th>31</th>\n",
       "      <td>b\"Ticker:PRLB\\r\\nb'Proto Labs, Inc.5540 Pionee...</td>\n",
       "      <td>PRLB</td>\n",
       "    </tr>\n",
       "    <tr>\n",
       "      <th>32</th>\n",
       "      <td>b\"Ticker:PRXL\\r\\nb'PAREXEL International Corpo...</td>\n",
       "      <td>PRXL</td>\n",
       "    </tr>\n",
       "    <tr>\n",
       "      <th>33</th>\n",
       "      <td>b\"Ticker:Q\\r\\nb'Quintiles IMS Holdings, Inc.48...</td>\n",
       "      <td>Q</td>\n",
       "    </tr>\n",
       "    <tr>\n",
       "      <th>34</th>\n",
       "      <td>b\"Ticker:QUCPF\\r\\nb'QUANTA COMPUTER TWD10Secto...</td>\n",
       "      <td>QUCPF</td>\n",
       "    </tr>\n",
       "    <tr>\n",
       "      <th>35</th>\n",
       "      <td>b\"Ticker:RNSHF\\r\\nb'Renishaw plcNew MillsWotto...</td>\n",
       "      <td>RNSHF</td>\n",
       "    </tr>\n",
       "    <tr>\n",
       "      <th>36</th>\n",
       "      <td>b\"Ticker:SGLB\\r\\nb'Sigma Labs, Inc.3900 Paseo ...</td>\n",
       "      <td>SGLB</td>\n",
       "    </tr>\n",
       "    <tr>\n",
       "      <th>37</th>\n",
       "      <td>b\"Ticker:SIEGY\\r\\nb'Siemens Aktiengesellschaft...</td>\n",
       "      <td>SIEGY</td>\n",
       "    </tr>\n",
       "    <tr>\n",
       "      <th>38</th>\n",
       "      <td>b\"Ticker:TKSTF\\r\\nb'Tinkerine Studios Ltd.341 ...</td>\n",
       "      <td>TKSTF</td>\n",
       "    </tr>\n",
       "    <tr>\n",
       "      <th>39</th>\n",
       "      <td>b\"Ticker:TOSYY\\r\\nb'Toshiba Corporation1-1, Sh...</td>\n",
       "      <td>TOSYY</td>\n",
       "    </tr>\n",
       "    <tr>\n",
       "      <th>40</th>\n",
       "      <td>b\"Ticker:TRMB\\r\\nb'Trimble Inc.935 Stewart Dri...</td>\n",
       "      <td>TRMB</td>\n",
       "    </tr>\n",
       "    <tr>\n",
       "      <th>41</th>\n",
       "      <td>b\"Ticker:VJET\\r\\nb'Voxeljet AGPaul-Lenz Strass...</td>\n",
       "      <td>VJET</td>\n",
       "    </tr>\n",
       "    <tr>\n",
       "      <th>42</th>\n",
       "      <td>b\"Ticker:XONE\\r\\nb'The ExOne XONE127 Industry ...</td>\n",
       "      <td>XONE</td>\n",
       "    </tr>\n",
       "    <tr>\n",
       "      <th>43</th>\n",
       "      <td>b\"Ticker:ZBH\\r\\nb'Zimmer Biomet Holdings, Inc....</td>\n",
       "      <td>ZBH</td>\n",
       "    </tr>\n",
       "  </tbody>\n",
       "</table>\n",
       "</div>"
      ],
      "text/plain": [
       "                                              content ticker\n",
       "0   b\"Ticker:AA\\r\\nb'Alcoa Corporation390 Park Ave...     AA\n",
       "1   b\"Ticker:ACEYY\\r\\nb'ACER INC GDRREGS NEWSector...  ACEYY\n",
       "2   b\"Ticker:ADSK\\r\\nb'Autodesk, Inc.111 McInnis P...   ADSK\n",
       "3   b\"Ticker:ARCW\\r\\nb'ARC Group Worldwide, Inc.81...   ARCW\n",
       "4   b\"Ticker:ASUUY\\r\\nb'ASUSTeK Computer Inc.Secto...  ASUUY\n",
       "5   b\"Ticker:BTX\\r\\nb'BioTime, Inc.1010 Atlantic A...    BTX\n",
       "6   b\"Ticker:CAJ\\r\\nb'Canon Inc.30-2, Shimomaruko ...    CAJ\n",
       "7   b\"Ticker:CAT\\r\\nb'Caterpillar Inc.100 NE Adams...    CAT\n",
       "8   b\"Ticker:CGIX\\r\\nb'Cancer Genetics, Inc.201 Ro...   CGIX\n",
       "9   b\"Ticker:CRL\\r\\nb'Charles River Laboratories I...    CRL\n",
       "10  b\"Ticker:CSBR\\r\\nb'iShares MSCI Brazil ETF USD...   CSBR\n",
       "11  b\"Ticker:DDD\\r\\nb'3D Systems Corporation333 Th...    DDD\n",
       "12  b\"Ticker:DE\\r\\nb'Deere & DEOne John Deere Plac...     DE\n",
       "13  b\"Ticker:DVMT\\r\\nb'Dell Technologies Inc.One D...   DVMT\n",
       "14  b\"Ticker:FUJIY\\r\\nb'FUJIFILM Holdings Corporat...  FUJIY\n",
       "15  b\"Ticker:GE\\r\\nb'General Electric GE41 Farnswo...     GE\n",
       "16  b\"Ticker:HAGE\\r\\nb'Heritage Printing Technolog...   HAGE\n",
       "17  b'Ticker:HPE\\r\\nb\"Hewlett Packard Enterprise H...    HPE\n",
       "18  b\"Ticker:HPQ\\r\\nb'HP Inc.1501 Page Mill RoadPa...    HPQ\n",
       "19  b\"Ticker:INCR\\r\\nb'INC Research Holdings, Inc....   INCR\n",
       "20  b\"Ticker:JNJ\\r\\nb'Johnson & JohnsonOne Johnson...    JNJ\n",
       "21  b\"Ticker:LJPC\\r\\nb'La Jolla Pharmaceutical LJP...   LJPC\n",
       "22  b\"Ticker:LMT\\r\\nb'Lockheed Martin Corporation6...    LMT\n",
       "23  b\"Ticker:LNVGY\\r\\nb'Lenovo Group LimitedLincol...  LNVGY\n",
       "24  b'Ticker:LOGI\\r\\nb\"Logitech International S.A....   LOGI\n",
       "25  b\"Ticker:MEDP\\r\\nb'Medpace Holdings, Inc.5375 ...   MEDP\n",
       "26  b\"Ticker:MMM\\r\\nb'3M MMM3M CenterSt. Paul, MN ...    MMM\n",
       "27  b\"Ticker:MSFT\\r\\nb'Microsoft CorporationOne Mi...   MSFT\n",
       "28  b\"Ticker:MTLS\\r\\nb'Materialise NVTechnologiela...   MTLS\n",
       "29  b\"Ticker:ONVO\\r\\nb''\\r\\n**********************...   ONVO\n",
       "30  b\"Ticker:PRAH\\r\\nb'PRA Health Sciences, Inc.41...   PRAH\n",
       "31  b\"Ticker:PRLB\\r\\nb'Proto Labs, Inc.5540 Pionee...   PRLB\n",
       "32  b\"Ticker:PRXL\\r\\nb'PAREXEL International Corpo...   PRXL\n",
       "33  b\"Ticker:Q\\r\\nb'Quintiles IMS Holdings, Inc.48...      Q\n",
       "34  b\"Ticker:QUCPF\\r\\nb'QUANTA COMPUTER TWD10Secto...  QUCPF\n",
       "35  b\"Ticker:RNSHF\\r\\nb'Renishaw plcNew MillsWotto...  RNSHF\n",
       "36  b\"Ticker:SGLB\\r\\nb'Sigma Labs, Inc.3900 Paseo ...   SGLB\n",
       "37  b\"Ticker:SIEGY\\r\\nb'Siemens Aktiengesellschaft...  SIEGY\n",
       "38  b\"Ticker:TKSTF\\r\\nb'Tinkerine Studios Ltd.341 ...  TKSTF\n",
       "39  b\"Ticker:TOSYY\\r\\nb'Toshiba Corporation1-1, Sh...  TOSYY\n",
       "40  b\"Ticker:TRMB\\r\\nb'Trimble Inc.935 Stewart Dri...   TRMB\n",
       "41  b\"Ticker:VJET\\r\\nb'Voxeljet AGPaul-Lenz Strass...   VJET\n",
       "42  b\"Ticker:XONE\\r\\nb'The ExOne XONE127 Industry ...   XONE\n",
       "43  b\"Ticker:ZBH\\r\\nb'Zimmer Biomet Holdings, Inc....    ZBH"
      ]
     },
     "execution_count": 30,
     "metadata": {},
     "output_type": "execute_result"
    }
   ],
   "source": [
    "winner"
   ]
  },
  {
   "cell_type": "code",
   "execution_count": 63,
   "metadata": {
    "collapsed": false
   },
   "outputs": [
    {
     "ename": "NameError",
     "evalue": "name 'data' is not defined",
     "output_type": "error",
     "traceback": [
      "\u001b[0;31m---------------------------------------------------------------------------\u001b[0m",
      "\u001b[0;31mNameError\u001b[0m                                 Traceback (most recent call last)",
      "\u001b[0;32m<ipython-input-63-dba147e9639a>\u001b[0m in \u001b[0;36m<module>\u001b[0;34m()\u001b[0m\n\u001b[0;32m----> 1\u001b[0;31m \u001b[0mdata\u001b[0m\u001b[1;33m.\u001b[0m\u001b[0mto_csv\u001b[0m\u001b[1;33m(\u001b[0m\u001b[1;34m\"winner_list.csv\"\u001b[0m\u001b[1;33m)\u001b[0m\u001b[1;33m\u001b[0m\u001b[0m\n\u001b[0m",
      "\u001b[0;31mNameError\u001b[0m: name 'data' is not defined"
     ]
    }
   ],
   "source": [
    "data.to_csv(\"winner_list.csv\")"
   ]
  },
  {
   "cell_type": "code",
   "execution_count": 95,
   "metadata": {
    "collapsed": false
   },
   "outputs": [],
   "source": [
    "docvec = doc2vec_model.docvecs[10]"
   ]
  },
  {
   "cell_type": "code",
   "execution_count": 96,
   "metadata": {
    "collapsed": false
   },
   "outputs": [
    {
     "data": {
      "text/plain": [
       "array([-1.02809715,  0.71870327, -0.37879354,  0.62356913], dtype=float32)"
      ]
     },
     "execution_count": 96,
     "metadata": {},
     "output_type": "execute_result"
    }
   ],
   "source": [
    "docvec"
   ]
  },
  {
   "cell_type": "code",
   "execution_count": 65,
   "metadata": {
    "collapsed": false
   },
   "outputs": [
    {
     "data": {
      "text/html": [
       "<div>\n",
       "<style>\n",
       "    .dataframe thead tr:only-child th {\n",
       "        text-align: right;\n",
       "    }\n",
       "\n",
       "    .dataframe thead th {\n",
       "        text-align: left;\n",
       "    }\n",
       "\n",
       "    .dataframe tbody tr th {\n",
       "        vertical-align: top;\n",
       "    }\n",
       "</style>\n",
       "<table border=\"1\" class=\"dataframe\">\n",
       "  <thead>\n",
       "    <tr style=\"text-align: right;\">\n",
       "      <th></th>\n",
       "      <th>0</th>\n",
       "    </tr>\n",
       "  </thead>\n",
       "  <tbody>\n",
       "    <tr>\n",
       "      <th>0</th>\n",
       "      <td>0.052698</td>\n",
       "    </tr>\n",
       "    <tr>\n",
       "      <th>1</th>\n",
       "      <td>-0.046014</td>\n",
       "    </tr>\n",
       "    <tr>\n",
       "      <th>2</th>\n",
       "      <td>0.110195</td>\n",
       "    </tr>\n",
       "    <tr>\n",
       "      <th>3</th>\n",
       "      <td>-0.098356</td>\n",
       "    </tr>\n",
       "  </tbody>\n",
       "</table>\n",
       "</div>"
      ],
      "text/plain": [
       "          0\n",
       "0  0.052698\n",
       "1 -0.046014\n",
       "2  0.110195\n",
       "3 -0.098356"
      ]
     },
     "execution_count": 65,
     "metadata": {},
     "output_type": "execute_result"
    }
   ],
   "source": [
    "pd.DataFrame(docvec)"
   ]
  },
  {
   "cell_type": "code",
   "execution_count": 64,
   "metadata": {
    "collapsed": false
   },
   "outputs": [
    {
     "data": {
      "text/plain": [
       "(44, 2)"
      ]
     },
     "execution_count": 64,
     "metadata": {},
     "output_type": "execute_result"
    }
   ],
   "source": [
    "winner.shape"
   ]
  },
  {
   "cell_type": "code",
   "execution_count": 106,
   "metadata": {
    "collapsed": false,
    "scrolled": true
   },
   "outputs": [
    {
     "name": "stderr",
     "output_type": "stream",
     "text": [
      "2017-09-06 13:03:30,780 : INFO : precomputing L2-norms of word weight vectors\n"
     ]
    },
    {
     "ename": "KeyError",
     "evalue": "\"word 'printer' not in vocabulary\"",
     "output_type": "error",
     "traceback": [
      "\u001b[0;31m---------------------------------------------------------------------------\u001b[0m",
      "\u001b[0;31mKeyError\u001b[0m                                  Traceback (most recent call last)",
      "\u001b[0;32m<ipython-input-106-4af94bfd8103>\u001b[0m in \u001b[0;36m<module>\u001b[0;34m()\u001b[0m\n\u001b[0;32m----> 1\u001b[0;31m \u001b[0mdoc2vec_model\u001b[0m\u001b[1;33m.\u001b[0m\u001b[0mwv\u001b[0m\u001b[1;33m.\u001b[0m\u001b[0mmost_similar\u001b[0m\u001b[1;33m(\u001b[0m\u001b[0mpositive\u001b[0m\u001b[1;33m=\u001b[0m\u001b[1;33m[\u001b[0m\u001b[1;34m'printer'\u001b[0m\u001b[1;33m,\u001b[0m \u001b[1;34m'3d'\u001b[0m\u001b[1;33m,\u001b[0m\u001b[1;34m'customer'\u001b[0m\u001b[1;33m]\u001b[0m\u001b[1;33m,\u001b[0m \u001b[0mnegative\u001b[0m\u001b[1;33m=\u001b[0m\u001b[1;33m[\u001b[0m\u001b[1;34m'software'\u001b[0m\u001b[1;33m]\u001b[0m\u001b[1;33m)\u001b[0m\u001b[1;33m\u001b[0m\u001b[0m\n\u001b[0m",
      "\u001b[0;32mC:\\Users\\Daniel\\Anaconda3\\lib\\site-packages\\gensim\\models\\keyedvectors.py\u001b[0m in \u001b[0;36mmost_similar\u001b[0;34m(self, positive, negative, topn, restrict_vocab, indexer)\u001b[0m\n\u001b[1;32m    333\u001b[0m                 \u001b[0mmean\u001b[0m\u001b[1;33m.\u001b[0m\u001b[0mappend\u001b[0m\u001b[1;33m(\u001b[0m\u001b[0mweight\u001b[0m \u001b[1;33m*\u001b[0m \u001b[0mword\u001b[0m\u001b[1;33m)\u001b[0m\u001b[1;33m\u001b[0m\u001b[0m\n\u001b[1;32m    334\u001b[0m             \u001b[1;32melse\u001b[0m\u001b[1;33m:\u001b[0m\u001b[1;33m\u001b[0m\u001b[0m\n\u001b[0;32m--> 335\u001b[0;31m                 \u001b[0mmean\u001b[0m\u001b[1;33m.\u001b[0m\u001b[0mappend\u001b[0m\u001b[1;33m(\u001b[0m\u001b[0mweight\u001b[0m \u001b[1;33m*\u001b[0m \u001b[0mself\u001b[0m\u001b[1;33m.\u001b[0m\u001b[0mword_vec\u001b[0m\u001b[1;33m(\u001b[0m\u001b[0mword\u001b[0m\u001b[1;33m,\u001b[0m \u001b[0muse_norm\u001b[0m\u001b[1;33m=\u001b[0m\u001b[1;32mTrue\u001b[0m\u001b[1;33m)\u001b[0m\u001b[1;33m)\u001b[0m\u001b[1;33m\u001b[0m\u001b[0m\n\u001b[0m\u001b[1;32m    336\u001b[0m                 \u001b[1;32mif\u001b[0m \u001b[0mword\u001b[0m \u001b[1;32min\u001b[0m \u001b[0mself\u001b[0m\u001b[1;33m.\u001b[0m\u001b[0mvocab\u001b[0m\u001b[1;33m:\u001b[0m\u001b[1;33m\u001b[0m\u001b[0m\n\u001b[1;32m    337\u001b[0m                     \u001b[0mall_words\u001b[0m\u001b[1;33m.\u001b[0m\u001b[0madd\u001b[0m\u001b[1;33m(\u001b[0m\u001b[0mself\u001b[0m\u001b[1;33m.\u001b[0m\u001b[0mvocab\u001b[0m\u001b[1;33m[\u001b[0m\u001b[0mword\u001b[0m\u001b[1;33m]\u001b[0m\u001b[1;33m.\u001b[0m\u001b[0mindex\u001b[0m\u001b[1;33m)\u001b[0m\u001b[1;33m\u001b[0m\u001b[0m\n",
      "\u001b[0;32mC:\\Users\\Daniel\\Anaconda3\\lib\\site-packages\\gensim\\models\\keyedvectors.py\u001b[0m in \u001b[0;36mword_vec\u001b[0;34m(self, word, use_norm)\u001b[0m\n\u001b[1;32m    286\u001b[0m                 \u001b[1;32mreturn\u001b[0m \u001b[0mself\u001b[0m\u001b[1;33m.\u001b[0m\u001b[0msyn0\u001b[0m\u001b[1;33m[\u001b[0m\u001b[0mself\u001b[0m\u001b[1;33m.\u001b[0m\u001b[0mvocab\u001b[0m\u001b[1;33m[\u001b[0m\u001b[0mword\u001b[0m\u001b[1;33m]\u001b[0m\u001b[1;33m.\u001b[0m\u001b[0mindex\u001b[0m\u001b[1;33m]\u001b[0m\u001b[1;33m\u001b[0m\u001b[0m\n\u001b[1;32m    287\u001b[0m         \u001b[1;32melse\u001b[0m\u001b[1;33m:\u001b[0m\u001b[1;33m\u001b[0m\u001b[0m\n\u001b[0;32m--> 288\u001b[0;31m             \u001b[1;32mraise\u001b[0m \u001b[0mKeyError\u001b[0m\u001b[1;33m(\u001b[0m\u001b[1;34m\"word '%s' not in vocabulary\"\u001b[0m \u001b[1;33m%\u001b[0m \u001b[0mword\u001b[0m\u001b[1;33m)\u001b[0m\u001b[1;33m\u001b[0m\u001b[0m\n\u001b[0m\u001b[1;32m    289\u001b[0m \u001b[1;33m\u001b[0m\u001b[0m\n\u001b[1;32m    290\u001b[0m     \u001b[1;32mdef\u001b[0m \u001b[0mmost_similar\u001b[0m\u001b[1;33m(\u001b[0m\u001b[0mself\u001b[0m\u001b[1;33m,\u001b[0m \u001b[0mpositive\u001b[0m\u001b[1;33m=\u001b[0m\u001b[1;33m[\u001b[0m\u001b[1;33m]\u001b[0m\u001b[1;33m,\u001b[0m \u001b[0mnegative\u001b[0m\u001b[1;33m=\u001b[0m\u001b[1;33m[\u001b[0m\u001b[1;33m]\u001b[0m\u001b[1;33m,\u001b[0m \u001b[0mtopn\u001b[0m\u001b[1;33m=\u001b[0m\u001b[1;36m10\u001b[0m\u001b[1;33m,\u001b[0m \u001b[0mrestrict_vocab\u001b[0m\u001b[1;33m=\u001b[0m\u001b[1;32mNone\u001b[0m\u001b[1;33m,\u001b[0m \u001b[0mindexer\u001b[0m\u001b[1;33m=\u001b[0m\u001b[1;32mNone\u001b[0m\u001b[1;33m)\u001b[0m\u001b[1;33m:\u001b[0m\u001b[1;33m\u001b[0m\u001b[0m\n",
      "\u001b[0;31mKeyError\u001b[0m: \"word 'printer' not in vocabulary\""
     ]
    }
   ],
   "source": [
    "doc2vec_model.wv.most_similar(positive=['printer', '3d','customer'], negative=['software'])"
   ]
  },
  {
   "cell_type": "code",
   "execution_count": 108,
   "metadata": {
    "collapsed": false
   },
   "outputs": [
    {
     "ename": "KeyError",
     "evalue": "\"word 'customer' not in vocabulary\"",
     "output_type": "error",
     "traceback": [
      "\u001b[0;31m---------------------------------------------------------------------------\u001b[0m",
      "\u001b[0;31mKeyError\u001b[0m                                  Traceback (most recent call last)",
      "\u001b[0;32m<ipython-input-108-3aabf8d8f705>\u001b[0m in \u001b[0;36m<module>\u001b[0;34m()\u001b[0m\n\u001b[0;32m----> 1\u001b[0;31m \u001b[0mdoc2vec_model\u001b[0m\u001b[1;33m.\u001b[0m\u001b[0mwv\u001b[0m\u001b[1;33m.\u001b[0m\u001b[0msimilar_by_word\u001b[0m\u001b[1;33m(\u001b[0m\u001b[1;34m'customer'\u001b[0m\u001b[1;33m)\u001b[0m\u001b[1;33m\u001b[0m\u001b[0m\n\u001b[0m",
      "\u001b[0;32mC:\\Users\\Daniel\\Anaconda3\\lib\\site-packages\\gensim\\models\\keyedvectors.py\u001b[0m in \u001b[0;36msimilar_by_word\u001b[0;34m(self, word, topn, restrict_vocab)\u001b[0m\n\u001b[1;32m    517\u001b[0m         \"\"\"\n\u001b[1;32m    518\u001b[0m \u001b[1;33m\u001b[0m\u001b[0m\n\u001b[0;32m--> 519\u001b[0;31m         \u001b[1;32mreturn\u001b[0m \u001b[0mself\u001b[0m\u001b[1;33m.\u001b[0m\u001b[0mmost_similar\u001b[0m\u001b[1;33m(\u001b[0m\u001b[0mpositive\u001b[0m\u001b[1;33m=\u001b[0m\u001b[1;33m[\u001b[0m\u001b[0mword\u001b[0m\u001b[1;33m]\u001b[0m\u001b[1;33m,\u001b[0m \u001b[0mtopn\u001b[0m\u001b[1;33m=\u001b[0m\u001b[0mtopn\u001b[0m\u001b[1;33m,\u001b[0m \u001b[0mrestrict_vocab\u001b[0m\u001b[1;33m=\u001b[0m\u001b[0mrestrict_vocab\u001b[0m\u001b[1;33m)\u001b[0m\u001b[1;33m\u001b[0m\u001b[0m\n\u001b[0m\u001b[1;32m    520\u001b[0m \u001b[1;33m\u001b[0m\u001b[0m\n\u001b[1;32m    521\u001b[0m     \u001b[1;32mdef\u001b[0m \u001b[0msimilar_by_vector\u001b[0m\u001b[1;33m(\u001b[0m\u001b[0mself\u001b[0m\u001b[1;33m,\u001b[0m \u001b[0mvector\u001b[0m\u001b[1;33m,\u001b[0m \u001b[0mtopn\u001b[0m\u001b[1;33m=\u001b[0m\u001b[1;36m10\u001b[0m\u001b[1;33m,\u001b[0m \u001b[0mrestrict_vocab\u001b[0m\u001b[1;33m=\u001b[0m\u001b[1;32mNone\u001b[0m\u001b[1;33m)\u001b[0m\u001b[1;33m:\u001b[0m\u001b[1;33m\u001b[0m\u001b[0m\n",
      "\u001b[0;32mC:\\Users\\Daniel\\Anaconda3\\lib\\site-packages\\gensim\\models\\keyedvectors.py\u001b[0m in \u001b[0;36mmost_similar\u001b[0;34m(self, positive, negative, topn, restrict_vocab, indexer)\u001b[0m\n\u001b[1;32m    333\u001b[0m                 \u001b[0mmean\u001b[0m\u001b[1;33m.\u001b[0m\u001b[0mappend\u001b[0m\u001b[1;33m(\u001b[0m\u001b[0mweight\u001b[0m \u001b[1;33m*\u001b[0m \u001b[0mword\u001b[0m\u001b[1;33m)\u001b[0m\u001b[1;33m\u001b[0m\u001b[0m\n\u001b[1;32m    334\u001b[0m             \u001b[1;32melse\u001b[0m\u001b[1;33m:\u001b[0m\u001b[1;33m\u001b[0m\u001b[0m\n\u001b[0;32m--> 335\u001b[0;31m                 \u001b[0mmean\u001b[0m\u001b[1;33m.\u001b[0m\u001b[0mappend\u001b[0m\u001b[1;33m(\u001b[0m\u001b[0mweight\u001b[0m \u001b[1;33m*\u001b[0m \u001b[0mself\u001b[0m\u001b[1;33m.\u001b[0m\u001b[0mword_vec\u001b[0m\u001b[1;33m(\u001b[0m\u001b[0mword\u001b[0m\u001b[1;33m,\u001b[0m \u001b[0muse_norm\u001b[0m\u001b[1;33m=\u001b[0m\u001b[1;32mTrue\u001b[0m\u001b[1;33m)\u001b[0m\u001b[1;33m)\u001b[0m\u001b[1;33m\u001b[0m\u001b[0m\n\u001b[0m\u001b[1;32m    336\u001b[0m                 \u001b[1;32mif\u001b[0m \u001b[0mword\u001b[0m \u001b[1;32min\u001b[0m \u001b[0mself\u001b[0m\u001b[1;33m.\u001b[0m\u001b[0mvocab\u001b[0m\u001b[1;33m:\u001b[0m\u001b[1;33m\u001b[0m\u001b[0m\n\u001b[1;32m    337\u001b[0m                     \u001b[0mall_words\u001b[0m\u001b[1;33m.\u001b[0m\u001b[0madd\u001b[0m\u001b[1;33m(\u001b[0m\u001b[0mself\u001b[0m\u001b[1;33m.\u001b[0m\u001b[0mvocab\u001b[0m\u001b[1;33m[\u001b[0m\u001b[0mword\u001b[0m\u001b[1;33m]\u001b[0m\u001b[1;33m.\u001b[0m\u001b[0mindex\u001b[0m\u001b[1;33m)\u001b[0m\u001b[1;33m\u001b[0m\u001b[0m\n",
      "\u001b[0;32mC:\\Users\\Daniel\\Anaconda3\\lib\\site-packages\\gensim\\models\\keyedvectors.py\u001b[0m in \u001b[0;36mword_vec\u001b[0;34m(self, word, use_norm)\u001b[0m\n\u001b[1;32m    286\u001b[0m                 \u001b[1;32mreturn\u001b[0m \u001b[0mself\u001b[0m\u001b[1;33m.\u001b[0m\u001b[0msyn0\u001b[0m\u001b[1;33m[\u001b[0m\u001b[0mself\u001b[0m\u001b[1;33m.\u001b[0m\u001b[0mvocab\u001b[0m\u001b[1;33m[\u001b[0m\u001b[0mword\u001b[0m\u001b[1;33m]\u001b[0m\u001b[1;33m.\u001b[0m\u001b[0mindex\u001b[0m\u001b[1;33m]\u001b[0m\u001b[1;33m\u001b[0m\u001b[0m\n\u001b[1;32m    287\u001b[0m         \u001b[1;32melse\u001b[0m\u001b[1;33m:\u001b[0m\u001b[1;33m\u001b[0m\u001b[0m\n\u001b[0;32m--> 288\u001b[0;31m             \u001b[1;32mraise\u001b[0m \u001b[0mKeyError\u001b[0m\u001b[1;33m(\u001b[0m\u001b[1;34m\"word '%s' not in vocabulary\"\u001b[0m \u001b[1;33m%\u001b[0m \u001b[0mword\u001b[0m\u001b[1;33m)\u001b[0m\u001b[1;33m\u001b[0m\u001b[0m\n\u001b[0m\u001b[1;32m    289\u001b[0m \u001b[1;33m\u001b[0m\u001b[0m\n\u001b[1;32m    290\u001b[0m     \u001b[1;32mdef\u001b[0m \u001b[0mmost_similar\u001b[0m\u001b[1;33m(\u001b[0m\u001b[0mself\u001b[0m\u001b[1;33m,\u001b[0m \u001b[0mpositive\u001b[0m\u001b[1;33m=\u001b[0m\u001b[1;33m[\u001b[0m\u001b[1;33m]\u001b[0m\u001b[1;33m,\u001b[0m \u001b[0mnegative\u001b[0m\u001b[1;33m=\u001b[0m\u001b[1;33m[\u001b[0m\u001b[1;33m]\u001b[0m\u001b[1;33m,\u001b[0m \u001b[0mtopn\u001b[0m\u001b[1;33m=\u001b[0m\u001b[1;36m10\u001b[0m\u001b[1;33m,\u001b[0m \u001b[0mrestrict_vocab\u001b[0m\u001b[1;33m=\u001b[0m\u001b[1;32mNone\u001b[0m\u001b[1;33m,\u001b[0m \u001b[0mindexer\u001b[0m\u001b[1;33m=\u001b[0m\u001b[1;32mNone\u001b[0m\u001b[1;33m)\u001b[0m\u001b[1;33m:\u001b[0m\u001b[1;33m\u001b[0m\u001b[0m\n",
      "\u001b[0;31mKeyError\u001b[0m: \"word 'customer' not in vocabulary\""
     ]
    }
   ],
   "source": [
    "doc2vec_model.wv.similar_by_word('customer') "
   ]
  },
  {
   "cell_type": "code",
   "execution_count": 110,
   "metadata": {
    "collapsed": false,
    "scrolled": true
   },
   "outputs": [
    {
     "ename": "AttributeError",
     "evalue": "'Doc2Vec' object has no attribute 'doc_count'",
     "output_type": "error",
     "traceback": [
      "\u001b[0;31m---------------------------------------------------------------------------\u001b[0m",
      "\u001b[0;31mAttributeError\u001b[0m                            Traceback (most recent call last)",
      "\u001b[0;32m<ipython-input-110-d9cb115f0e78>\u001b[0m in \u001b[0;36m<module>\u001b[0;34m()\u001b[0m\n\u001b[0;32m----> 1\u001b[0;31m \u001b[0mdoc2vec_model\u001b[0m\u001b[1;33m.\u001b[0m\u001b[0mdoc_count\u001b[0m\u001b[1;33m\u001b[0m\u001b[0m\n\u001b[0m",
      "\u001b[0;31mAttributeError\u001b[0m: 'Doc2Vec' object has no attribute 'doc_count'"
     ]
    }
   ],
   "source": [
    "doc2vec_model.doc_count"
   ]
  },
  {
   "cell_type": "code",
   "execution_count": 112,
   "metadata": {
    "collapsed": false
   },
   "outputs": [
    {
     "ename": "TypeError",
     "evalue": "'int' object is not iterable",
     "output_type": "error",
     "traceback": [
      "\u001b[0;31m---------------------------------------------------------------------------\u001b[0m",
      "\u001b[0;31mTypeError\u001b[0m                                 Traceback (most recent call last)",
      "\u001b[0;32m<ipython-input-112-dc537af0272f>\u001b[0m in \u001b[0;36m<module>\u001b[0;34m()\u001b[0m\n\u001b[0;32m----> 1\u001b[0;31m \u001b[0mdoc2vec_model\u001b[0m\u001b[1;33m.\u001b[0m\u001b[0mwv\u001b[0m\u001b[1;33m.\u001b[0m\u001b[0mmost_similar\u001b[0m\u001b[1;33m(\u001b[0m\u001b[0mpositive\u001b[0m\u001b[1;33m=\u001b[0m\u001b[1;33m[\u001b[0m\u001b[1;36m1\u001b[0m\u001b[1;33m,\u001b[0m\u001b[1;36m2\u001b[0m\u001b[1;33m]\u001b[0m\u001b[1;33m,\u001b[0m \u001b[0mnegative\u001b[0m\u001b[1;33m=\u001b[0m\u001b[1;33m[\u001b[0m\u001b[1;36m3\u001b[0m\u001b[1;33m]\u001b[0m\u001b[1;33m)\u001b[0m\u001b[1;33m\u001b[0m\u001b[0m\n\u001b[0m",
      "\u001b[0;32mC:\\Users\\Daniel\\Anaconda3\\lib\\site-packages\\gensim\\models\\keyedvectors.py\u001b[0m in \u001b[0;36mmost_similar\u001b[0;34m(self, positive, negative, topn, restrict_vocab, indexer)\u001b[0m\n\u001b[1;32m    329\u001b[0m         \u001b[1;31m# compute the weighted average of all words\u001b[0m\u001b[1;33m\u001b[0m\u001b[1;33m\u001b[0m\u001b[0m\n\u001b[1;32m    330\u001b[0m         \u001b[0mall_words\u001b[0m\u001b[1;33m,\u001b[0m \u001b[0mmean\u001b[0m \u001b[1;33m=\u001b[0m \u001b[0mset\u001b[0m\u001b[1;33m(\u001b[0m\u001b[1;33m)\u001b[0m\u001b[1;33m,\u001b[0m \u001b[1;33m[\u001b[0m\u001b[1;33m]\u001b[0m\u001b[1;33m\u001b[0m\u001b[0m\n\u001b[0;32m--> 331\u001b[0;31m         \u001b[1;32mfor\u001b[0m \u001b[0mword\u001b[0m\u001b[1;33m,\u001b[0m \u001b[0mweight\u001b[0m \u001b[1;32min\u001b[0m \u001b[0mpositive\u001b[0m \u001b[1;33m+\u001b[0m \u001b[0mnegative\u001b[0m\u001b[1;33m:\u001b[0m\u001b[1;33m\u001b[0m\u001b[0m\n\u001b[0m\u001b[1;32m    332\u001b[0m             \u001b[1;32mif\u001b[0m \u001b[0misinstance\u001b[0m\u001b[1;33m(\u001b[0m\u001b[0mword\u001b[0m\u001b[1;33m,\u001b[0m \u001b[0mndarray\u001b[0m\u001b[1;33m)\u001b[0m\u001b[1;33m:\u001b[0m\u001b[1;33m\u001b[0m\u001b[0m\n\u001b[1;32m    333\u001b[0m                 \u001b[0mmean\u001b[0m\u001b[1;33m.\u001b[0m\u001b[0mappend\u001b[0m\u001b[1;33m(\u001b[0m\u001b[0mweight\u001b[0m \u001b[1;33m*\u001b[0m \u001b[0mword\u001b[0m\u001b[1;33m)\u001b[0m\u001b[1;33m\u001b[0m\u001b[0m\n",
      "\u001b[0;31mTypeError\u001b[0m: 'int' object is not iterable"
     ]
    }
   ],
   "source": [
    "doc2vec_model.wv.most_similar(positive=[1,2], negative=[3])"
   ]
  }
 ],
 "metadata": {
  "kernelspec": {
   "display_name": "Python 3",
   "language": "python",
   "name": "python3"
  },
  "language_info": {
   "codemirror_mode": {
    "name": "ipython",
    "version": 3
   },
   "file_extension": ".py",
   "mimetype": "text/x-python",
   "name": "python",
   "nbconvert_exporter": "python",
   "pygments_lexer": "ipython3",
   "version": "3.6.0"
  }
 },
 "nbformat": 4,
 "nbformat_minor": 2
}
